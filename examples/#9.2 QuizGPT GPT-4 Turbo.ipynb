{
 "cells": [
  {
   "cell_type": "code",
   "execution_count": null,
   "metadata": {},
   "outputs": [],
   "source": [
    "https://platform.openai.com/docs/models/gpt-3-5\n",
    "\n",
    "# gpt-3.5-turbo-1106\n",
    "\n",
    "- 모델\n",
    "gpt-3.5-turbo-1106 업데이트된 GPT 3.5 Turbo 새로운\n",
    "\n",
    "- 설명\n",
    "개선된 지시어 따르기, JSON 모드, 재현 가능한 출력, 병렬 함수 호출 등을 갖춘 최신 GPT-3.5 Turbo 모델입니다. 최대 4,096개의 출력 토큰을 반환합니다. 자세한 내용은 여기에서 확인하세요.\n",
    "\n",
    "- 가격\n",
    "플랫폼 전반에 걸쳐 여러 가지 가격을 인하하여 절감된 비용을 개발자에게 전달하고 있습니다 (아래의 모든 가격은 1,000 토큰당 표시됨):\n",
    "\n",
    "GPT-4 Turbo 입력 토큰은 GPT-4 대비 3배 저렴한 0.01달러이며, 출력 토큰은 2배 저렴한 0.03달러입니다.\n",
    "\n",
    "GPT-3.5 Turbo 입력 토큰은 이전 16K 모델 대비 3배 저렴한 0.001달러이며, 출력 토큰은 2배 저렴한 0.002달러입니다.\n",
    "\n",
    "이전에 GPT-3.5 Turbo 4K를 사용하던 개발자는 입력 토큰에 대해 33% 할인된 0.001달러를 이용할 수 있습니다. 이러한 낮은 가격은 오늘 소개된 새로운 GPT-3.5 Turbo에만 적용됩니다.\n",
    "\n",
    "- 컨텍스트 윈도우\n",
    "16,385 토큰\n",
    "\n",
    "- 훈련 데이터\n",
    "2021년 9월까지의 데이터"
   ]
  },
  {
   "cell_type": "code",
   "execution_count": null,
   "metadata": {},
   "outputs": [],
   "source": []
  }
 ],
 "metadata": {
  "language_info": {
   "name": "python"
  }
 },
 "nbformat": 4,
 "nbformat_minor": 2
}
