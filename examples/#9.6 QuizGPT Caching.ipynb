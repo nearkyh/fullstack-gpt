{
 "cells": [
  {
   "cell_type": "code",
   "execution_count": null,
   "metadata": {},
   "outputs": [],
   "source": [
    "https://docs.streamlit.io/library/advanced-features/caching\n",
    "\n",
    "# Steamlit Caching\n",
    "\n",
    "- 캐싱 개념 다이어그램 도식표\n",
    "https://docs.streamlit.io/images/caching-high-level-diagram.png\n",
    "\n",
    "Streamlit은 사용자 상호 작용이나 코드 변경마다 스크립트를 위에서 아래로 실행합니다. 이 실행 모델은 개발을 매우 쉽게 만들지만 두 가지 주요 문제가 있습니다.\n",
    "\n",
    "1. 장시간 실행되는 함수가 계속해서 실행되어 앱이 느려지는 문제\n",
    "2. 객체가 계속 다시 생성되어 다시 실행 또는 세션 간에 그들을 유지하기가 어려운 문제 등이 있습니다.\n",
    "\n",
    "Streamlit은 내장된 캐싱 메커니즘을 사용하여 이 두 문제에 대처할 수 있게 해줍니다. 캐싱은 느린 함수 호출의 결과를 저장하여 한 번만 실행되면 될 때마다 호출되는 것처럼 동작합니다. 이로써 앱이 훨씬 빨라지며 객체를 다시 실행 간에 유지하는 데 도움이 됩니다.\n",
    "\n",
    "@st.cache_data로 long_running_function을 장식(decorating)하면 Streamlit에게 함수가 호출될 때 다음 두 가지를 확인하라고 알려줍니다.\n",
    "\n",
    "1. 입력 매개변수의 값 (이 경우 param1 및 param2).\n",
    "2. 함수 내부의 코드.\n",
    "\n",
    "Streamlit이 이러한 매개변수 값과 함수 코드를 처음으로 보는 경우, 함수를 실행하고 반환 값을 캐시에 저장합니다. 다음으로 함수가 동일한 매개변수와 코드로 호출될 때 (예: 사용자가 앱과 상호 작용할 때), Streamlit은 함수 실행을 완전히 건너뛰고 캐시된 값을 반환합니다. 개발 중에는 함수 코드가 변경됨에 따라 캐시가 자동으로 업데이트되어 최신 변경 사항이 캐시에 반영되도록 보장합니다.\n",
    "\n",
    "언급했듯이 두 가지 캐싱 데코레이터가 있습니다.\n",
    "\n",
    "1. st.cache_data : 데이터를 반환하는 계산을 캐시하는 권장 방법입니다. CSV에서 DataFrame을로드하거나 NumPy 배열을 변환하거나 API를 쿼리하는 등의 함수 (str, int, float, DataFrame, array, list 등)를 캐시합니다. 함수 호출마다 데이터의 새 복사본을 생성하여 변형 및 경쟁 조건에 대비합니다. st.cache_data의 동작은 대부분의 경우에 필요한대로이므로 확실하지 않은 경우 st.cache_data로 시작하고 작동하는지 확인하세요.\n",
    "\n",
    "2. st.cache_resource : ML 모델이나 데이터베이스 연결과 같은 전역 리소스를 캐시하는 권장 방법입니다. 여러 번 로드하고 싶지 않은 직렬화할 수 없는 객체들입니다. 이를 사용하면 리소스를 복사하거나 중복으로 로드하지 않고도 앱의 모든 다시 실행 및 세션에서 이러한 리소스를 공유할 수 있습니다. 캐시된 반환 값에 대한 모든 변이는 직접 캐시된 객체를 직접 변경합니다.\n"
   ]
  },
  {
   "cell_type": "code",
   "execution_count": null,
   "metadata": {},
   "outputs": [],
   "source": []
  }
 ],
 "metadata": {
  "language_info": {
   "name": "python"
  }
 },
 "nbformat": 4,
 "nbformat_minor": 2
}
