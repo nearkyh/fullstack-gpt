{
 "cells": [
  {
   "cell_type": "code",
   "execution_count": null,
   "metadata": {},
   "outputs": [],
   "source": [
    "https://js.langchain.com/docs/modules/model_io/models/chat/how_to/function_calling\n",
    "\n",
    "# OpenAI Function calling\n",
    "\n",
    "함수 호출은 LLM에서 다양한 목적으로 구조화된 출력을 얻는 유용한 방법입니다. \"함수\"에 대한 스키마를 제공함으로써 LLM은 하나를 선택하고 해당 스키마에 맞는 응답을 출력하려고 노력할 것입니다.\n",
    "\n",
    "이름이 LLM이 실제로 코드를 실행하고 함수를 호출한다는 것을 시사하고 있지만, 더 정확히 말하면 LLM은 가상 함수가 사용할 인수의 스키마와 일치하는 매개변수를 채우고 있습니다. 이러한 구조화된 응답은 우리가 원하는 목적으로 사용할 수 있습니다!\n",
    "\n",
    "함수 호출은 LangChain에서 OpenAI Functions 에이전트와 구조화된 출력 체인을 포함한 여러 인기있는 기능의 기본 구성 요소로 작용합니다. 이러한 더 구체적인 사용 사례 외에도 함수 매개변수를 직접 모델에 첨부하고 호출할 수 있습니다."
   ]
  },
  {
   "cell_type": "code",
   "execution_count": null,
   "metadata": {},
   "outputs": [],
   "source": []
  }
 ],
 "metadata": {
  "language_info": {
   "name": "python"
  }
 },
 "nbformat": 4,
 "nbformat_minor": 2
}
