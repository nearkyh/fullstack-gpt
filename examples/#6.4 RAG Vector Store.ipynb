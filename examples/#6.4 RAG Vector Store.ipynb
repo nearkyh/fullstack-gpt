{
 "cells": [
  {
   "cell_type": "code",
   "execution_count": 1,
   "metadata": {},
   "outputs": [],
   "source": [
    "from langchain.chat_models import ChatOpenAI\n",
    "from langchain.document_loaders import UnstructuredFileLoader\n",
    "from langchain.text_splitter import CharacterTextSplitter\n",
    "from langchain.embeddings import OpenAIEmbeddings, CacheBackedEmbeddings\n",
    "from langchain.vectorstores import Chroma\n",
    "from langchain.storage import LocalFileStore"
   ]
  },
  {
   "cell_type": "code",
   "execution_count": 2,
   "metadata": {},
   "outputs": [],
   "source": [
    "__import__('pysqlite3')\n",
    "import sys\n",
    "sys.modules['sqlite3'] = sys.modules.pop('pysqlite3')"
   ]
  },
  {
   "cell_type": "code",
   "execution_count": 3,
   "metadata": {},
   "outputs": [],
   "source": [
    "file_path = \"../files/MEPC 80차 결과 보고서_송부 20230713_한국해운협회 해무팀.pdf\"\n",
    "cache_dir = LocalFileStore(\"./.cache/\")"
   ]
  },
  {
   "cell_type": "code",
   "execution_count": 4,
   "metadata": {},
   "outputs": [],
   "source": [
    "splitter = CharacterTextSplitter.from_tiktoken_encoder(\n",
    "    separator=\"\\n\",\n",
    "    chunk_size=600,\n",
    "    chunk_overlap=100,\n",
    ")\n",
    "loader = UnstructuredFileLoader(file_path)\n",
    "\n",
    "docs = loader.load_and_split(text_splitter=splitter)\n",
    "\n",
    "embeddings = OpenAIEmbeddings()\n",
    "\n",
    "cached_embeddings = CacheBackedEmbeddings.from_bytes_store(embeddings, cache_dir)\n",
    "\n",
    "vectorstore = Chroma.from_documents(docs, cached_embeddings)"
   ]
  },
  {
   "cell_type": "code",
   "execution_count": 5,
   "metadata": {},
   "outputs": [
    {
     "data": {
      "text/plain": [
       "[Document(page_content='보고서를 제출할 예정이다.\\n이러한 WtW로 평가된 연료 적용 및 효과를 보기 위해서는 2027년 도입예정\\n인 GFS+Levy의 적용이 필요하며, 연료 공급지역 및 항로별 취항선사 적용을\\n위한 유불리 사항 파악 및 케이스별 대처가 필요한 상황이다.\\n4. 바이오연료 사용 임시지침 승인\\n지속 가능한 바이오연료를 현행 IMO 규제(DCS, CII 등)에 조기 적용할 수 있\\n도록 CO2 배출계수를 ‘0’으로 산정할 것을 제안하는 결의서가 인도에 의해 제\\n안되었다. 이에 대해 LCA 지침서 추가개발까지의 시간이 추가적으로 필요하고', metadata={'source': '../files/MEPC 80차 결과 보고서_송부 20230713_한국해운협회 해무팀.pdf'}),\n",
       " Document(page_content='되었다. “Mid-century”의 주장 근거는 글래스고 기후 합의 문구 내용에 포함\\n되었음을 근거로 하였으며, 지지 국가는 중국, 브라질, 아르헨티나, 남아공, 우\\n르과이, 사우디아라비아, 벨라루스, 러시아, 쿠바, 파라과이, 인도네시아, 페루,\\n베네수엘라, 에콰도르 등이 지지하였다.\\n글래스고 기후 합의문 문구 : The main goal was to secure global net\\nzero by mid-century and keep a maximum of 1.5 C degrees of\\nwarming within reach.\\n“at least before 2050”을 지지하는 근거는 IPCC AR 61) 보고서 문구를 인용\\n한 것으로써 지지국가는 우리나라, EU, 미국, 영국, 캐나다, 노르웨이, 군소도', metadata={'source': '../files/MEPC 80차 결과 보고서_송부 20230713_한국해운협회 해무팀.pdf'}),\n",
       " Document(page_content='변환 계수(Cf) 값을 정의할 수 있도록 하고 있고, 이에 따라 IMO LCA 가이드\\n라인을 기반으로한 WtW 온실가스 배출 및 제거를 계산하는 포괄적인 방법이\\n개발될 때까지, 국제 인증 체계에 의해 인증된 생태지속성 기준을 충족하고\\nWtW 온실가스 배출량이 33 gCO2e/MJ (MGO 94 gCO2e/MJ 대비 65% 감축)\\n이하를 만족하는 바이오 연료는 WtW 배출량 값(gCO2eq/MJ)에 저위발열량\\n(LCV, MJ/g)을 곱하여 해당 연료의 Cf 값으로 사용할 수 있도록 되어 있다.\\n어떠한 경우에도 바이오 연료의 Cf 값은 0보다 작을 수 없으며, 혼합연료의', metadata={'source': '../files/MEPC 80차 결과 보고서_송부 20230713_한국해운협회 해무팀.pdf'}),\n",
       " Document(page_content='에 포함되는 연료의 제품 생산 및 운송-유통 단계의 온실가스 배출량은 선박\\n에서의 배출량으로 포함하지 않아 TtW 기반 온실가스 집약도를 제한하고 기\\n준보다 초과 달성한 선박에 SRU를 지급하고 이를 미달성 선박에 판매하여 수\\n익 창출이 가능한 구조이다. 또한, LCA 가이드라인에서 인정하는 지속가능연\\n료를 사용했을 경우에만 SRU를 부여하도록 하여 WtW기반의 저배출량 연료\\n사용을 유도하는 구조를 갖추고 있다.\\n4) 온실가스 연료유 표준제도의 단순화 제안 (ICS)', metadata={'source': '../files/MEPC 80차 결과 보고서_송부 20230713_한국해운협회 해무팀.pdf'})]"
      ]
     },
     "execution_count": 5,
     "metadata": {},
     "output_type": "execute_result"
    }
   ],
   "source": [
    "results = vectorstore.similarity_search(\"where does winston live\")\n",
    "\n",
    "results"
   ]
  },
  {
   "cell_type": "code",
   "execution_count": null,
   "metadata": {},
   "outputs": [],
   "source": []
  }
 ],
 "metadata": {
  "kernelspec": {
   "display_name": "venv",
   "language": "python",
   "name": "python3"
  },
  "language_info": {
   "codemirror_mode": {
    "name": "ipython",
    "version": 3
   },
   "file_extension": ".py",
   "mimetype": "text/x-python",
   "name": "python",
   "nbconvert_exporter": "python",
   "pygments_lexer": "ipython3",
   "version": "3.11.8"
  }
 },
 "nbformat": 4,
 "nbformat_minor": 2
}
