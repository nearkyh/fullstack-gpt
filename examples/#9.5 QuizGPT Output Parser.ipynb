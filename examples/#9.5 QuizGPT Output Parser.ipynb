{
 "cells": [
  {
   "cell_type": "code",
   "execution_count": null,
   "metadata": {},
   "outputs": [],
   "source": [
    "https://python.langchain.com/docs/modules/model_io/output_parsers/\n",
    "\n",
    "# Output parsers\n",
    "\n",
    "언어 모델은 텍스트를 출력합니다. 그러나 종종 텍스트 이상의 보다 구조화된 정보를 얻고 싶을 수 있습니다. 이 때 출력 파서가 필요합니다.\n",
    "\n",
    "출력 파서는 언어 모델 응답을 구조화하는 데 도움을 주는 클래스들입니다. 출력 파서는 주로 두 가지 메서드를 구현해야 합니다:\n",
    "\n",
    "“포맷 지시사항 가져오기”: 언어 모델의 출력이 어떻게 서식이 지정되어야 하는지에 대한 지시사항을 포함한 문자열을 반환하는 메서드입니다.\n",
    "“구문 분석”: 언어 모델 응답으로 가정되는 문자열을 가져와 어떤 구조로 구문 분석하는 메서드입니다.\n",
    "그리고 선택적인 메서드 하나:\n",
    "\n",
    "“프롬프트와 함께 구문 분석”: 언어 모델 응답으로 가정되는 문자열과 (해당 응답을 생성한 것으로 가정되는) 프롬프트를 가져와 어떤 구조로 구문 분석하는 메서드입니다. 이 메서드는 대개 출력을 다시 시도하거나 수정해야 하는 경우에 사용되며, 이를 수행하기 위해 프롬프트에서 정보가 필요한 경우에 프롬프트가 제공됩니다."
   ]
  },
  {
   "cell_type": "code",
   "execution_count": null,
   "metadata": {},
   "outputs": [],
   "source": []
  }
 ],
 "metadata": {
  "language_info": {
   "name": "python"
  }
 },
 "nbformat": 4,
 "nbformat_minor": 2
}
