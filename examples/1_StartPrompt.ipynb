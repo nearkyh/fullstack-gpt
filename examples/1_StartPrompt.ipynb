{
 "cells": [
  {
   "cell_type": "code",
   "execution_count": 2,
   "metadata": {},
   "outputs": [],
   "source": [
    "from langchain.llms.openai import OpenAI\n",
    "from langchain.chat_models import ChatOpenAI\n",
    "\n",
    "from langchain.schema import HumanMessage\n",
    "from langchain.schema import AIMessage\n",
    "from langchain.schema import SystemMessage\n",
    "from langchain.schema import BaseOutputParser\n",
    "\n",
    "from langchain.prompts import PromptTemplate\n",
    "from langchain.prompts import ChatPromptTemplate\n",
    "\n",
    "from langchain.callbacks import StreamingStdOutCallbackHandler\n"
   ]
  },
  {
   "cell_type": "code",
   "execution_count": 2,
   "metadata": {},
   "outputs": [
    {
     "data": {
      "text/plain": [
       "'\\n\\nAs of 2021, there are eight officially recognized planets in our solar system: Mercury, Venus, Earth, Mars, Jupiter, Saturn, Uranus, and Neptune. However, some scientists argue that there may be a ninth planet, often referred to as Planet Nine, located beyond Neptune. '"
      ]
     },
     "execution_count": 2,
     "metadata": {},
     "output_type": "execute_result"
    }
   ],
   "source": [
    "llm = OpenAI(\n",
    "    model_name=\"gpt-3.5-turbo-instruct\"\n",
    ")\n",
    "\n",
    "llm.predict(\"How many planets are there?\")"
   ]
  },
  {
   "cell_type": "code",
   "execution_count": 3,
   "metadata": {},
   "outputs": [
    {
     "data": {
      "text/plain": [
       "'There are 8 planets in our solar system: Mercury, Venus, Earth, Mars, Jupiter, Saturn, Uranus, and Neptune.'"
      ]
     },
     "execution_count": 3,
     "metadata": {},
     "output_type": "execute_result"
    }
   ],
   "source": [
    "chat = ChatOpenAI(\n",
    "    # temperature=0.1\n",
    ")\n",
    "\n",
    "chat.predict(\"How many planets are there?\")"
   ]
  },
  {
   "cell_type": "code",
   "execution_count": 4,
   "metadata": {},
   "outputs": [
    {
     "data": {
      "text/plain": [
       "AIMessage(content='Mi dispiace, non posso fornire informazioni sulla distanza tra due paesi. Il mio nome è Assistente di Lingue! Come posso aiutarti oggi?')"
      ]
     },
     "execution_count": 4,
     "metadata": {},
     "output_type": "execute_result"
    }
   ],
   "source": [
    "messages = [\n",
    "    SystemMessage(\n",
    "        content=\"You are a geography expert. And you only reply in {language}.\",\n",
    "    ),\n",
    "    AIMessage(content=\"Ciao, mi chiamo {name}!\"),\n",
    "    HumanMessage(\n",
    "        content=\"What is the distance between {country_a} and {country_b}. Also, what is your name?\",\n",
    "    ),\n",
    "]\n",
    "\n",
    "chat = ChatOpenAI()\n",
    "chat.predict_messages(messages)"
   ]
  },
  {
   "cell_type": "code",
   "execution_count": 5,
   "metadata": {},
   "outputs": [
    {
     "data": {
      "text/plain": [
       "'The distance between Mexico City, Mexico and Bangkok, Thailand is approximately 16,625 kilometers (10,324 miles) when measured in a straight line.'"
      ]
     },
     "execution_count": 5,
     "metadata": {},
     "output_type": "execute_result"
    }
   ],
   "source": [
    "template = PromptTemplate.from_template(\n",
    "    \"What is the distance between {country_a} and {country_b}\",\n",
    ")\n",
    "prompt = template.format(country_a=\"Mexico\", country_b=\"Thailand\")\n",
    "\n",
    "chat = ChatOpenAI()\n",
    "chat.predict(prompt)"
   ]
  },
  {
   "cell_type": "code",
   "execution_count": 12,
   "metadata": {},
   "outputs": [
    {
     "data": {
      "text/plain": [
       "['pikachu', 'charmander', 'bulbasaur', 'squirtle', 'jigglypuff']"
      ]
     },
     "execution_count": 12,
     "metadata": {},
     "output_type": "execute_result"
    }
   ],
   "source": [
    "class CommaOutputParser(BaseOutputParser):\n",
    "    def parse(self, text):\n",
    "        items = text.strip().split(\",\")\n",
    "        return list(map(str.strip, items))\n",
    "\n",
    "\n",
    "template = ChatPromptTemplate.from_messages(\n",
    "    [\n",
    "        (\n",
    "            \"system\",\n",
    "            \"You are a list generating machine. Everything you are asked will be answered with a comma separated list of max {max_items} in lowercase.Do NOT reply with anything else.\",\n",
    "        ),\n",
    "        (\"human\", \"{question}\"),\n",
    "    ]\n",
    ")\n",
    "\n",
    "chat = ChatOpenAI(\n",
    "    temperature=0.1\n",
    ")\n",
    "\n",
    "chain = template | chat | CommaOutputParser()\n",
    "chain.invoke({\"max_items\": 5, \"question\": \"What are the pokemons?\"})"
   ]
  },
  {
   "cell_type": "code",
   "execution_count": 16,
   "metadata": {},
   "outputs": [
    {
     "name": "stdout",
     "output_type": "stream",
     "text": [
      "That's great! Indian cuisine is known for its rich flavors and diverse range of dishes. Here are a few popular Indian recipes you can try:\n",
      "\n",
      "1. Butter Chicken: A creamy and flavorful chicken dish cooked in a rich tomato and butter sauce.\n",
      "\n",
      "2. Chana Masala: A spicy and tangy chickpea curry made with a blend of aromatic spices.\n",
      "\n",
      "3. Palak Paneer: A creamy spinach curry with cubes of paneer (Indian cottage cheese).\n",
      "\n",
      "4. Biryani: A fragrant and flavorful rice dish cooked with meat, vegetables, and a blend of spices.\n",
      "\n",
      "5. Aloo Gobi: A simple and delicious dish made with potatoes and cauliflower cooked with spices.\n",
      "\n",
      "6. Dal Tadka: A comforting lentil curry tempered with aromatic spices.\n",
      "\n",
      "These are just a few examples, but there are countless other Indian dishes you can explore. Enjoy your cooking!Thank you for sharing these delicious Indian recipes! As a vegetarian chef specializing in traditional recipes, I can offer some alternative ingredients for a vegetarian twist on these dishes:\n",
      "\n",
      "1. Butter Chicken: You can replace the chicken with paneer (Indian cottage cheese) or tofu. Marinate the paneer or tofu in a mixture of yogurt, lemon juice, and spices before cooking it in the creamy tomato and butter sauce.\n",
      "\n",
      "2. Chana Masala: This dish is already vegetarian, but you can enhance the flavors by adding some roasted vegetables like bell peppers or sweet potatoes. You can also add some coconut milk for a creamier texture.\n",
      "\n",
      "3. Palak Paneer: Instead of paneer, you can use tofu or boiled and cubed potatoes. Blend the spinach with some cashew cream or coconut milk for a creamy texture.\n",
      "\n",
      "4. Biryani: For a vegetarian version, you can use a mix of vegetables like carrots, peas, potatoes, and cauliflower. You can also add paneer or tofu for protein. Make sure to layer the rice and vegetable mixture with fried onions and aromatic spices for an authentic flavor.\n",
      "\n",
      "5. Aloo Gobi: This dish is already vegetarian, but you can add some green peas or bell peppers for extra flavor and texture. You can also roast the potatoes and cauliflower before adding them to the spices for a different twist.\n",
      "\n",
      "6. Dal Tadka: You can use a mix of lentils like red lentils, yellow lentils, and mung beans for a more complex flavor. Add some coconut milk or cashew cream for a creamy finish, and temper the dal with ghee or coconut oil for richness.\n",
      "\n",
      "I hope these alternatives inspire you to try out these traditional Indian recipes with a vegetarian twist! Enjoy your cooking!"
     ]
    },
    {
     "data": {
      "text/plain": [
       "AIMessageChunk(content='Thank you for sharing these delicious Indian recipes! As a vegetarian chef specializing in traditional recipes, I can offer some alternative ingredients for a vegetarian twist on these dishes:\\n\\n1. Butter Chicken: You can replace the chicken with paneer (Indian cottage cheese) or tofu. Marinate the paneer or tofu in a mixture of yogurt, lemon juice, and spices before cooking it in the creamy tomato and butter sauce.\\n\\n2. Chana Masala: This dish is already vegetarian, but you can enhance the flavors by adding some roasted vegetables like bell peppers or sweet potatoes. You can also add some coconut milk for a creamier texture.\\n\\n3. Palak Paneer: Instead of paneer, you can use tofu or boiled and cubed potatoes. Blend the spinach with some cashew cream or coconut milk for a creamy texture.\\n\\n4. Biryani: For a vegetarian version, you can use a mix of vegetables like carrots, peas, potatoes, and cauliflower. You can also add paneer or tofu for protein. Make sure to layer the rice and vegetable mixture with fried onions and aromatic spices for an authentic flavor.\\n\\n5. Aloo Gobi: This dish is already vegetarian, but you can add some green peas or bell peppers for extra flavor and texture. You can also roast the potatoes and cauliflower before adding them to the spices for a different twist.\\n\\n6. Dal Tadka: You can use a mix of lentils like red lentils, yellow lentils, and mung beans for a more complex flavor. Add some coconut milk or cashew cream for a creamy finish, and temper the dal with ghee or coconut oil for richness.\\n\\nI hope these alternatives inspire you to try out these traditional Indian recipes with a vegetarian twist! Enjoy your cooking!')"
      ]
     },
     "execution_count": 16,
     "metadata": {},
     "output_type": "execute_result"
    }
   ],
   "source": [
    "chat = ChatOpenAI(\n",
    "    temperature=0.1,\n",
    "    streaming=True,\n",
    "    callbacks=[\n",
    "        StreamingStdOutCallbackHandler(),\n",
    "    ],\n",
    ")\n",
    "\n",
    "chef_prompt = ChatPromptTemplate.from_messages(\n",
    "    [\n",
    "        (\"system\", \"\"),\n",
    "        (\"human\", \"I want to cook {cuisine} food.\"),\n",
    "    ]\n",
    ")\n",
    "chef_chain = chef_prompt | chat\n",
    "\n",
    "veg_chef_prompt = ChatPromptTemplate.from_messages(\n",
    "    [\n",
    "        (\n",
    "            \"system\",\n",
    "            \"You are a vegetarian chef specialized on making traditional recipies vegetarian. You find alternative ingredients and explain their preparation. You don't radically modify the recipe. If there is no alternative for a food just say you don't know how to replace it.\",\n",
    "        ),\n",
    "        (\"human\", \"{recipe}\"),\n",
    "    ]\n",
    ")\n",
    "veg_chain = veg_chef_prompt | chat\n",
    "\n",
    "final_chain = {\"recipe\": chef_chain} | veg_chain\n",
    "final_chain.invoke({\"cuisine\": \"indian\"})"
   ]
  },
  {
   "cell_type": "code",
   "execution_count": null,
   "metadata": {},
   "outputs": [],
   "source": []
  },
  {
   "cell_type": "code",
   "execution_count": null,
   "metadata": {},
   "outputs": [],
   "source": []
  },
  {
   "cell_type": "code",
   "execution_count": null,
   "metadata": {},
   "outputs": [],
   "source": []
  }
 ],
 "metadata": {
  "kernelspec": {
   "display_name": "venv",
   "language": "python",
   "name": "python3"
  },
  "language_info": {
   "codemirror_mode": {
    "name": "ipython",
    "version": 3
   },
   "file_extension": ".py",
   "mimetype": "text/x-python",
   "name": "python",
   "nbconvert_exporter": "python",
   "pygments_lexer": "ipython3",
   "version": "3.11.8"
  }
 },
 "nbformat": 4,
 "nbformat_minor": 2
}
