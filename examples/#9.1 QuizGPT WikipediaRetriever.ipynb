{
 "cells": [
  {
   "cell_type": "code",
   "execution_count": null,
   "metadata": {},
   "outputs": [],
   "source": [
    "https://python.langchain.com/docs/integrations/retrievers/wikipedia\n",
    "\n",
    "# WikipediaRetriever\n",
    "\n",
    "위키피디아는 다국어로 이루어진 무료 온라인 백과사전으로, 지식인인 위키피디언들이 참여하여 오픈 협업을 통해 작성되고 유지보수되는 시스템인 미디어위키(MediaWiki) 기반의 편집 시스템을 사용합니다. 위키피디아는 역사적으로 가장 크고 많이 읽힌 참고 자료 작품입니다.\n",
    "\n",
    "이 노트북은 wikipedia.org에서 위키피디아 문서를 아래로 사용되는 Document 형식으로 검색하는 방법을 보여줍니다.\n",
    "\n",
    "WikipediaRetriever에는 다음과 같은 인수가 있습니다:\n",
    "- optional lang: default=\"en\". 특정 언어 부분에서 위키피디아를 검색하려면 사용합니다.\n",
    "- optional load_max_docs: default=100. 다운로드된 문서의 수를 제한하는 데 사용됩니다. 모든 100 문서를 다운로드하는 데 시간이 소요되므로 실험에는 적은 수를 사용하십시오. 현재는 300의 하드 제한이 있습니다.\n",
    "- optional load_all_available_meta: default=False. 기본적으로 중요한 필드만 다운로드됩니다: 발행일(문서가 발행/최종 업데이트된 날짜), 제목, 요약. True로 설정하면 다른 필드도 다운로드됩니다.\n",
    "\n",
    "get_relevant_documents() 함수에는 query라는 하나의 인수가 있습니다: 위키피디아에서 문서를 찾는 데 사용되는 자유로운 텍스트입니다."
   ]
  },
  {
   "cell_type": "code",
   "execution_count": null,
   "metadata": {},
   "outputs": [],
   "source": []
  }
 ],
 "metadata": {
  "language_info": {
   "name": "python"
  }
 },
 "nbformat": 4,
 "nbformat_minor": 2
}
